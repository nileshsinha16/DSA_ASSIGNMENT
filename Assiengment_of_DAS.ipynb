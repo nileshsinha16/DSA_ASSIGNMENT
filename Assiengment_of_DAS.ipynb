{
  "cells": [
    {
      "cell_type": "code",
      "execution_count": null,
      "metadata": {
        "colab": {
          "base_uri": "https://localhost:8080/"
        },
        "id": "vNg8LVK1PcFF",
        "outputId": "8d67c412-b59b-4ce9-d7a9-d6b15bf794bf"
      },
      "outputs": [
        {
          "output_type": "execute_result",
          "data": {
            "text/plain": [
              "('rimi', 'ram', 'dip', 'rick')"
            ]
          },
          "metadata": {},
          "execution_count": 1
        }
      ],
      "source": [
        "a= (\"rick\",\"dip\",\"ram\",\"rimi\")\n",
        "a[::-1]\n"
      ]
    },
    {
      "cell_type": "code",
      "execution_count": null,
      "metadata": {
        "colab": {
          "base_uri": "https://localhost:8080/"
        },
        "id": "-NqzOXS-Tqzd",
        "outputId": "b12f5967-ea5a-4531-f459-d35f61334884"
      },
      "outputs": [
        {
          "data": {
            "text/plain": [
              "['sinha', 'dip', 'hello nilesh']"
            ]
          },
          "execution_count": 13,
          "metadata": {},
          "output_type": "execute_result"
        }
      ],
      "source": [
        "##Q!. REVERS STRING\n",
        "ab=(\"hello nilesh\", \"dip\",\"sinha\")\n",
        "list(reversed(ab))\n"
      ]
    },
    {
      "cell_type": "code",
      "execution_count": null,
      "metadata": {
        "colab": {
          "base_uri": "https://localhost:8080/"
        },
        "id": "aynONriERuaE",
        "outputId": "aa1e0c6a-95a3-4f27-82fc-8e5d676af588"
      },
      "outputs": [
        {
          "data": {
            "text/plain": [
              "12"
            ]
          },
          "execution_count": 7,
          "metadata": {},
          "output_type": "execute_result"
        }
      ],
      "source": [
        "##Q2. VOLIUME\n",
        "b=\"hello python\"\n",
        "len (b)"
      ]
    },
    {
      "cell_type": "code",
      "execution_count": null,
      "metadata": {
        "colab": {
          "base_uri": "https://localhost:8080/"
        },
        "id": "1S86PtSgSL-C",
        "outputId": "32f5e1b1-736f-4b76-ca20-cf1714d00422"
      },
      "outputs": [
        {
          "name": "stdout",
          "output_type": "stream",
          "text": [
            "it is palandroma\n"
          ]
        }
      ],
      "source": [
        "##Q3. PALONDROM\n",
        "str=\"madam\"\n",
        "str1= reversed(str)\n",
        "\n",
        "if list(str)== list(str1):\n",
        "  print('it is palandroma')\n",
        "else:\n",
        "  print('it is not palandroma')"
      ]
    },
    {
      "cell_type": "code",
      "execution_count": null,
      "metadata": {
        "colab": {
          "base_uri": "https://localhost:8080/"
        },
        "id": "pXsKaW4nWUPk",
        "outputId": "cfa04ca5-d839-49b7-a087-9eee6d4649b8"
      },
      "outputs": [
        {
          "name": "stdout",
          "output_type": "stream",
          "text": [
            "race and care  both are anagram \n"
          ]
        }
      ],
      "source": [
        "##Q4 ANAGRAM\n",
        "s= 'race'\n",
        "s1= 'care'\n",
        "sorted_s= sorted(s)\n",
        "sorted_s1=sorted(s1)\n",
        "if sorted_s==sorted_s1:\n",
        "  print(f\"{s} and {s1}  both are anagram \")\n",
        "else:\n",
        "  print(f\"{s} and {s1}  both are not anagram \")"
      ]
    },
    {
      "cell_type": "code",
      "execution_count": null,
      "metadata": {
        "colab": {
          "base_uri": "https://localhost:8080/"
        },
        "id": "cT6KGR584tTO",
        "outputId": "9cc949b9-dd7e-485e-ee13-dbd218f84420"
      },
      "outputs": [
        {
          "name": "stdout",
          "output_type": "stream",
          "text": [
            "0 8 "
          ]
        }
      ],
      "source": [
        "##Q5. OCCURRENCES\n",
        "def print_indices(s, sub):\n",
        "    pos = s.find(sub)\n",
        "\n",
        "    if pos == -1:\n",
        "        print(\"NONE\")\n",
        "\n",
        "    while pos != -1:\n",
        "        print(pos, end=\" \")\n",
        "        pos = s.find(sub, pos + 1)\n",
        "\n",
        "if __name__ == \"__main__\":\n",
        "    str1 = \"GeeksforGeeks\"\n",
        "    str2 = \"Geeks\"\n",
        "    print_indices(str1, str2)"
      ]
    },
    {
      "cell_type": "code",
      "execution_count": null,
      "metadata": {
        "colab": {
          "base_uri": "https://localhost:8080/"
        },
        "id": "T3ib2JbcS7I-",
        "outputId": "bbc36b8e-e39d-49bf-a4aa-280b1d15d5c0"
      },
      "outputs": [
        {
          "name": "stdout",
          "output_type": "stream",
          "text": [
            "ab3a6c2da3b\n"
          ]
        }
      ],
      "source": [
        "##Q6.\n",
        "def solve(s):\n",
        "   res = \"\"\n",
        "   cnt = 1\n",
        "   for i in range(1, len(s)):\n",
        "      if s[i - 1] == s[i]:\n",
        "         cnt += 1\n",
        "      else:\n",
        "         res = res + s[i - 1]\n",
        "         if cnt > 1:\n",
        "            res += str(cnt)\n",
        "         cnt = 1\n",
        "   res = res + s[-1]\n",
        "   if cnt > 1:\n",
        "      res += str(cnt)\n",
        "   return res\n",
        "\n",
        "s = \"abbbaaaaaaccdaaab\"\n",
        "print(solve(s))"
      ]
    },
    {
      "cell_type": "code",
      "execution_count": null,
      "metadata": {
        "colab": {
          "base_uri": "https://localhost:8080/"
        },
        "id": "atVQMPEbVu76",
        "outputId": "ffc7c8cc-63bc-43fa-a90a-02a82903b8c9"
      },
      "outputs": [
        {
          "name": "stdout",
          "output_type": "stream",
          "text": [
            "True\n"
          ]
        }
      ],
      "source": [
        "##Q7.\n",
        "st = \"abcvjkrld\"\n",
        "a=\"\"\n",
        "for i in st:\n",
        "    if i not in a:\n",
        "        a+=i\n",
        "if(a==st):\n",
        "    print(True)\n",
        "else:\n",
        "    print(False)"
      ]
    },
    {
      "cell_type": "code",
      "execution_count": null,
      "metadata": {
        "colab": {
          "base_uri": "https://localhost:8080/"
        },
        "id": "klsdsZjQ7Nu1",
        "outputId": "fde473b5-09dc-4c07-d26d-077cea434c24"
      },
      "outputs": [
        {
          "name": "stdout",
          "output_type": "stream",
          "text": [
            "I AM NILESH SINHA\n",
            "i am nilesh sinha\n"
          ]
        }
      ],
      "source": [
        "##Q8.\n",
        "text= \"i am Nilesh Sinha\"\n",
        "##upper\n",
        "print (text.upper())\n",
        "##lower\n",
        "print (text.lower())"
      ]
    },
    {
      "cell_type": "code",
      "execution_count": null,
      "metadata": {
        "colab": {
          "base_uri": "https://localhost:8080/"
        },
        "id": "AS9TN0yM87tY",
        "outputId": "ab16a1f3-4f51-481c-c32c-bcd072371a34"
      },
      "outputs": [
        {
          "name": "stdout",
          "output_type": "stream",
          "text": [
            "Count of word in the given sentance is  8\n"
          ]
        }
      ],
      "source": [
        "##Q9. count the word (9)\n",
        "count_word = len(\" i am electrical engineering student of BP PODDAR \".split())\n",
        "print(\"Count of word in the given sentance is \", count_word)"
      ]
    },
    {
      "cell_type": "code",
      "execution_count": null,
      "metadata": {
        "colab": {
          "base_uri": "https://localhost:8080/"
        },
        "id": "ayYOMdSq_7XZ",
        "outputId": "bb805935-6adb-4352-e530-9be69e5a0f08"
      },
      "outputs": [
        {
          "name": "stdout",
          "output_type": "stream",
          "text": [
            "Hello I am a student\n"
          ]
        }
      ],
      "source": [
        "##Q10. 2 word add without + operater\n",
        "word1= \"Hello\"\n",
        "word2= \" I am a student\"\n",
        "sen= \"\".join([word1,word2])\n",
        "print(sen)"
      ]
    },
    {
      "cell_type": "code",
      "execution_count": null,
      "metadata": {
        "colab": {
          "base_uri": "https://localhost:8080/"
        },
        "id": "HNpDAwrdK7jY",
        "outputId": "48d6ee30-865e-4d58-8541-aed0e45c7167"
      },
      "outputs": [
        {
          "name": "stdout",
          "output_type": "stream",
          "text": [
            "[3, 4, 6, 5]\n"
          ]
        }
      ],
      "source": [
        "#Q11. remove all occurrences of element in list\n",
        "test_list = [1, 3, 4, 6, 5, 1]\n",
        "ele=1\n",
        "x=[j for i,j in enumerate(test_list) if j!=ele]\n",
        "print(x)"
      ]
    },
    {
      "cell_type": "code",
      "execution_count": null,
      "metadata": {
        "colab": {
          "base_uri": "https://localhost:8080/"
        },
        "id": "3-qLYGwnLBkY",
        "outputId": "408db06e-6728-49a4-dc01-211df246c156"
      },
      "outputs": [
        {
          "name": "stdout",
          "output_type": "stream",
          "text": [
            "Second largest element is: 45\n"
          ]
        }
      ],
      "source": [
        "#Q12.  Python program to find largest number\n",
        "# in a list\n",
        "\n",
        "# List of numbers\n",
        "list1 = [10, 20, 20, 4, 45, 45, 45, 99, 99]\n",
        "\n",
        "# Removing duplicates from the list\n",
        "list2 = list(set(list1))\n",
        "\n",
        "# Sorting the  list\n",
        "list2.sort()\n",
        "\n",
        "# Printing the second last element\n",
        "print(\"Second largest element is:\", list2[-2])"
      ]
    },
    {
      "cell_type": "code",
      "execution_count": null,
      "metadata": {
        "colab": {
          "base_uri": "https://localhost:8080/"
        },
        "id": "vsO25F6RMfp0",
        "outputId": "530d4f21-dae1-4b6f-baac-02972aece331"
      },
      "outputs": [
        {
          "name": "stdout",
          "output_type": "stream",
          "text": [
            "{1: 5, 5: 2, 3: 3, 4: 3, 2: 4}\n"
          ]
        }
      ],
      "source": [
        "##Q13.\n",
        "def CountFrequency(my_list):\n",
        "\n",
        "    # Creating an empty dictionary\n",
        "    count = {}\n",
        "    for i in [1, 1, 1, 5, 5, 3, 1, 3, 3, 1, 4, 4, 4, 2, 2, 2, 2]:\n",
        "        count[i] = count.get(i, 0) + 1\n",
        "    return count\n",
        "\n",
        "\n",
        "# Driver function\n",
        "if __name__ == \"__main__\":\n",
        "    my_list = [1, 1, 1, 5, 5, 3, 1, 3, 3, 1, 4, 4, 4, 2, 2, 2, 2]\n",
        "    print(CountFrequency(my_list))"
      ]
    },
    {
      "cell_type": "code",
      "execution_count": null,
      "metadata": {
        "colab": {
          "base_uri": "https://localhost:8080/"
        },
        "id": "eWcrfQoHILcY",
        "outputId": "7c66e508-4e2e-4700-c1cb-144706247460"
      },
      "outputs": [
        {
          "name": "stdout",
          "output_type": "stream",
          "text": [
            "[8, 7, 6, 5, 4, 3, 2, 1]\n"
          ]
        }
      ],
      "source": [
        "##Q14. without out revers function\n",
        "las= [1,2,3,4,5,6,7,8]\n",
        "print(las[::-1])"
      ]
    },
    {
      "cell_type": "code",
      "execution_count": null,
      "metadata": {
        "colab": {
          "base_uri": "https://localhost:8080/"
        },
        "id": "Z8XOCYzWJuhz",
        "outputId": "1050faf2-497d-4c06-b5c6-6a17d4522425"
      },
      "outputs": [
        {
          "name": "stdout",
          "output_type": "stream",
          "text": [
            "The original list is : [1, 5, 3, 6, 3, 5, 8, 8, 6, 1]\n",
            "The list after removing duplicates : [1, 3, 5, 6, 8]\n"
          ]
        }
      ],
      "source": [
        "##Q15. test_list1 = [1, 5, 3, 6, 3, 5, 8, 8, 6, 1]\n",
        "print (\"The original list is : \"\n",
        "        + str(test_list1))\n",
        "\n",
        "# using set() to remove duplicated from list\n",
        "test_list1 = list(set(test_list1))\n",
        "\n",
        "# printing list after removal\n",
        "# distorted ordering\n",
        "print (\"The list after removing duplicates : \"\n",
        "        + str(test_list1))"
      ]
    },
    {
      "cell_type": "code",
      "execution_count": null,
      "metadata": {
        "colab": {
          "base_uri": "https://localhost:8080/"
        },
        "id": "mFGwOOfuN1Vd",
        "outputId": "1670a029-6b5c-4a45-81b0-c921be5f0dd6"
      },
      "outputs": [
        {
          "name": "stdout",
          "output_type": "stream",
          "text": [
            "Original list : [1, 4, 5, 8, 10]\n",
            "Yes, List is sorted.\n"
          ]
        }
      ],
      "source": [
        "##(Q16)\n",
        "test_list2 = [1, 4, 5, 8, 10]\n",
        "\n",
        "# printing original list\n",
        "print (\"Original list : \" + str(test_list2))\n",
        "\n",
        "# using sorted() to\n",
        "# check sorted list\n",
        "flag = 0\n",
        "if(test_list2 == sorted(test_list2)):\n",
        "    flag = 1\n",
        "\n",
        "# printing result\n",
        "if (flag) :\n",
        "    print (\"Yes, List is sorted.\")\n",
        "else :\n",
        "    print (\"No, List is not sorted.\")"
      ]
    },
    {
      "cell_type": "code",
      "execution_count": null,
      "metadata": {
        "colab": {
          "base_uri": "https://localhost:8080/"
        },
        "id": "TkJnCuZ1SZtk",
        "outputId": "bda150d4-29e5-45c6-9d79-6f7fd1137576"
      },
      "outputs": [
        {
          "name": "stdout",
          "output_type": "stream",
          "text": [
            "The original list 1 is : [1, 5, 6, 9, 11]\n",
            "The original list 2 is : [3, 4, 7, 8, 10]\n",
            "The combined sorted list is : [1, 3, 4, 5, 6, 7, 8, 9, 10, 11]\n"
          ]
        }
      ],
      "source": [
        "##(Q17)\n",
        "test_list3 = [1, 5, 6, 9, 11]\n",
        "test_list4 = [3, 4, 7, 8, 10]\n",
        "\n",
        "# printing original lists\n",
        "print (\"The original list 1 is : \" + str(test_list3))\n",
        "print (\"The original list 2 is : \" + str(test_list4))\n",
        "\n",
        "# using sorted()\n",
        "# to combine two sorted lists\n",
        "res = sorted(test_list3 + test_list4)\n",
        "\n",
        "# printing result\n",
        "print (\"The combined sorted list is : \" + str(res))"
      ]
    },
    {
      "cell_type": "code",
      "execution_count": null,
      "metadata": {
        "colab": {
          "base_uri": "https://localhost:8080/"
        },
        "id": "O6wvQcWVTVXc",
        "outputId": "a5be42da-dd4b-47e6-d9d8-9c26ef1ede9f"
      },
      "outputs": [
        {
          "name": "stdout",
          "output_type": "stream",
          "text": [
            "[9, 11, 26, 28]\n"
          ]
        }
      ],
      "source": [
        "##Q18,\n",
        "def intersection(lst3, lst4):\n",
        "    lst5 = [value for value in lst3 if value in lst4]\n",
        "    return lst5\n",
        "\n",
        "# Driver Code\n",
        "lst3 = [4, 9, 1, 17, 11, 26, 28, 54, 69]\n",
        "lst4 = [9, 9, 74, 21, 45, 11, 63, 28, 26]\n",
        "print(intersection(lst3, lst4))"
      ]
    },
    {
      "cell_type": "code",
      "execution_count": null,
      "metadata": {
        "colab": {
          "base_uri": "https://localhost:8080/"
        },
        "id": "2tWHY08izT7h",
        "outputId": "efa9a302-97ed-47dd-c9af-6e093a01f572"
      },
      "outputs": [
        {
          "output_type": "stream",
          "name": "stdout",
          "text": [
            "[23, 15, 2, 14, 14, 16, 20, 52, 2, 48, 15, 12, 26, 32, 47, 54]\n"
          ]
        }
      ],
      "source": [
        "##(Q19)\n",
        "def Union(lst6, lst7):\n",
        "    final_list = lst6 + lst7\n",
        "    return final_list\n",
        "\n",
        "# Driver Code\n",
        "lst6 = [23, 15, 2, 14, 14, 16, 20 ,52]\n",
        "lst7 = [2, 48, 15, 12, 26, 32, 47, 54]\n",
        "print(Union(lst6, lst7))"
      ]
    },
    {
      "cell_type": "code",
      "execution_count": null,
      "metadata": {
        "id": "Sk0tPR7vyZ81",
        "colab": {
          "base_uri": "https://localhost:8080/"
        },
        "outputId": "7a3a95fe-3e96-4a29-eb15-92cf6127ae0a"
      },
      "outputs": [
        {
          "output_type": "stream",
          "name": "stdout",
          "text": [
            "The original list is : [1, 4, 5, 6, 3]\n",
            "The shuffled list is : [6, 3, 4, 5, 1]\n"
          ]
        }
      ],
      "source": [
        "##(Q20)\n",
        "import random\n",
        "test_list6 = [1, 4, 5, 6, 3]\n",
        "\n",
        "print(\"The original list is : \" + str(test_list6))\n",
        "\n",
        "# using random.sample()to shuffle a list\n",
        "res = random.sample(test_list6, len(test_list6))\n",
        "\n",
        "print(\"The shuffled list is : \" + str(res))"
      ]
    },
    {
      "cell_type": "code",
      "source": [
        "##(Q21)\n",
        "test_tuple1 = (4, 5)\n",
        "test_tuple2 = (7, 8)\n",
        "\n",
        "# printing original tuples\n",
        "print(\"The original tuple 1 : \" + str(test_tuple1))\n",
        "print(\"The original tuple 2 : \" + str(test_tuple2))\n",
        "\n",
        "# All pair combinations of 2 tuples\n",
        "# Using list comprehension\n",
        "res =  [(a, b) for a in test_tuple1 for b in test_tuple2]\n",
        "res = res +  [(a, b) for a in test_tuple2 for b in test_tuple1]\n",
        "\n",
        "# printing result\n",
        "print(\"The filtered tuple : \" + str(res))"
      ],
      "metadata": {
        "colab": {
          "base_uri": "https://localhost:8080/"
        },
        "id": "_QOIu0mm4iHz",
        "outputId": "f06fa67f-177c-4564-e34a-c4631a4564ad"
      },
      "execution_count": null,
      "outputs": [
        {
          "output_type": "stream",
          "name": "stdout",
          "text": [
            "The original tuple 1 : (4, 5)\n",
            "The original tuple 2 : (7, 8)\n",
            "The filtered tuple : [(4, 7), (4, 8), (5, 7), (5, 8), (7, 4), (7, 5), (8, 4), (8, 5)]\n"
          ]
        }
      ]
    },
    {
      "cell_type": "code",
      "source": [
        "##(Q22)\n",
        "s1 = {1, 2, 3}\n",
        "s2 = {2, 3, 5}\n",
        "print(s1.intersection(s2))"
      ],
      "metadata": {
        "colab": {
          "base_uri": "https://localhost:8080/"
        },
        "id": "KCHAo-D74p85",
        "outputId": "587bc279-3a29-4424-a861-51fa66e7f8fa"
      },
      "execution_count": null,
      "outputs": [
        {
          "output_type": "stream",
          "name": "stdout",
          "text": [
            "{2, 3}\n"
          ]
        }
      ]
    },
    {
      "cell_type": "code",
      "source": [
        "##(Q23)\n",
        "# Ways to concatenate tuples\n",
        "# using + operator\n",
        "\n",
        "# initialize tuples\n",
        "test_tup1 = (1, 3, 5)\n",
        "test_tup2 = (4, 6)\n",
        "\n",
        "# printing original tuples\n",
        "print(\"The original tuple 1 : \" + str(test_tup1))\n",
        "print(\"The original tuple 2 : \" + str(test_tup2))\n",
        "\n",
        "# Ways to concatenate tuples\n",
        "# using + operator\n",
        "res1 = test_tup1 + test_tup2\n",
        "\n",
        "# printing result\n",
        "print(\"The tuple after concatenation is : \" + str(res1))"
      ],
      "metadata": {
        "colab": {
          "base_uri": "https://localhost:8080/"
        },
        "id": "-bN4YIkA5QiA",
        "outputId": "0ea7ad98-6ff2-41f6-e4af-d590245a0d9a"
      },
      "execution_count": null,
      "outputs": [
        {
          "output_type": "stream",
          "name": "stdout",
          "text": [
            "The original tuple 1 : (1, 3, 5)\n",
            "The original tuple 2 : (4, 6)\n",
            "The tuple after concatenation is : (1, 3, 5, 4, 6)\n"
          ]
        }
      ]
    },
    {
      "cell_type": "code",
      "source": [
        "##(Q26)\n",
        "A1 = {'ab', 'ba', 'cd', 'dz'}\n",
        "B1 = {'cd', 'ab', 'dd', 'za'}\n",
        "\n",
        "print(\"Union of A1 and B1:\", A1.union(B1))"
      ],
      "metadata": {
        "colab": {
          "base_uri": "https://localhost:8080/"
        },
        "id": "e5EHrmLw1erE",
        "outputId": "6251c276-9d28-4e43-ee1b-80ee6e42d2b7"
      },
      "execution_count": null,
      "outputs": [
        {
          "output_type": "stream",
          "name": "stdout",
          "text": [
            "Union of A1 and B1: {'ab', 'cd', 'ba', 'dz', 'za', 'dd'}\n"
          ]
        }
      ]
    },
    {
      "cell_type": "code",
      "source": [
        "##(Q27)\n",
        "test_list8 = [(2, 3), (4, 7), (8, 11), (3, 6)]\n",
        "\n",
        "# create a list of all values in the tuples\n",
        "values = [val for tup in test_list8 for val in tup]\n",
        "\n",
        "# sort the list of values\n",
        "sorted_values = sorted(values)\n",
        "\n",
        "# find the min and max values\n",
        "min_val = sorted_values[0]\n",
        "max_val = sorted_values[-1]\n",
        "\n",
        "# printing result\n",
        "print(\"The minimum value is: \", min_val)\n",
        "print(\"The maximum value is: \", max_val)"
      ],
      "metadata": {
        "colab": {
          "base_uri": "https://localhost:8080/"
        },
        "id": "pDHaidHv1Idv",
        "outputId": "5eb5c8cb-1b0c-40bf-f307-4fdb71a2fbc8"
      },
      "execution_count": null,
      "outputs": [
        {
          "output_type": "stream",
          "name": "stdout",
          "text": [
            "The minimum value is:  2\n",
            "The maximum value is:  11\n"
          ]
        }
      ]
    },
    {
      "cell_type": "code",
      "source": [
        "##(Q28)\n",
        "A1 = {'ab', 'ba', 'cd', 'dz'}\n",
        "B1 = {'cd', 'ab', 'dd', 'za'}\n",
        "\n",
        "## UNION OF TWO\n",
        "print(\"Union of A1 and B1:\", A1.union(B1))\n",
        "\n",
        "## INTERSECTION OF TWO\n",
        "print(\"A1 intersection B1 : \",\n",
        "      A1.intersection(B1))\n",
        "\n",
        "## DIFFERANCE OF TWO\n",
        "print(\"Differance of A1 and B1:\", A1.difference(B1))"
      ],
      "metadata": {
        "colab": {
          "base_uri": "https://localhost:8080/"
        },
        "id": "1V3L_YnN33fu",
        "outputId": "28ee5576-a08c-47cd-87e2-c4ec76ee21ad"
      },
      "execution_count": null,
      "outputs": [
        {
          "output_type": "stream",
          "name": "stdout",
          "text": [
            "Union of A1 and B1: {'ab', 'cd', 'ba', 'dz', 'za', 'dd'}\n",
            "A1 intersection B1 :  {'cd', 'ab'}\n",
            "Differance of A1 and B1: {'ba', 'dz'}\n"
          ]
        }
      ]
    },
    {
      "cell_type": "code",
      "source": [
        "##(Q29)\n",
        "tuple5=(10, 8, 5, 2, 10, 15, 10, 8, 5, 8, 8, 2)\n",
        "x1=list(filter(lambda i: (i==10),tuple5))\n",
        "x2=list(filter(lambda i: (i==8),tuple5))\n",
        "\n",
        "print(\"the element 10 occurs\",len(x1),\"times\")\n",
        "print(\"the element 8 occurs\",len(x2),\"times\")"
      ],
      "metadata": {
        "colab": {
          "base_uri": "https://localhost:8080/"
        },
        "id": "NIeKqEid64c4",
        "outputId": "d5edf4af-16f1-4a44-af1a-cc06209aae56"
      },
      "execution_count": null,
      "outputs": [
        {
          "output_type": "stream",
          "name": "stdout",
          "text": [
            "the element 10 occurs 3 times\n",
            "the element 8 occurs 4 times\n"
          ]
        }
      ]
    },
    {
      "cell_type": "code",
      "source": [
        "##(30)\n",
        "set_A = {\"ram\", \"rahim\", \"ajay\", \"rishav\", \"aakash\"}\n",
        "set_B = {\"aakash\", \"ajay\", \"shyam\", \"ram\", \"ravi\"}\n",
        "print(\"Symmetric Difference TWO String is:\",(set_A ^ set_B))"
      ],
      "metadata": {
        "colab": {
          "base_uri": "https://localhost:8080/"
        },
        "id": "PHso8QlP7ZJV",
        "outputId": "fd4a14a3-cad5-469c-a1ce-815611c90dd5"
      },
      "execution_count": null,
      "outputs": [
        {
          "output_type": "stream",
          "name": "stdout",
          "text": [
            "Symmetric Difference TWO String is: {'shyam', 'rishav', 'rahim', 'ravi'}\n"
          ]
        }
      ]
    },
    {
      "cell_type": "code",
      "source": [
        "##(Q31)\n",
        "def CountFrequency(my_list):\n",
        "\n",
        "    # Creating an empty dictionary\n",
        "    count = {}\n",
        "    for i in [1, 1, 1, 5, 5, 3, 1, 3, 3, 1, 4, 4, 4, 2, 2, 2, 2]:\n",
        "        count[i] = count.get(i, 0) + 1\n",
        "    return count\n",
        "\n",
        "\n",
        "# Driver function\n",
        "if __name__ == \"__main__\":\n",
        "    my_list = [1, 1, 1, 5, 5, 3, 1, 3, 3, 1, 4, 4, 4, 2, 2, 2, 2]\n",
        "    print(CountFrequency(my_list))"
      ],
      "metadata": {
        "colab": {
          "base_uri": "https://localhost:8080/"
        },
        "id": "QiYUrvpj9z5M",
        "outputId": "872143f2-29bd-483b-bae8-41a78d7e5c10"
      },
      "execution_count": null,
      "outputs": [
        {
          "output_type": "stream",
          "name": "stdout",
          "text": [
            "{1: 5, 5: 2, 3: 3, 4: 3, 2: 4}\n"
          ]
        }
      ]
    },
    {
      "cell_type": "code",
      "source": [
        "## (Q32)\n",
        "# Python program to combine two dictionary\n",
        "# adding values for common keys\n",
        "from collections import Counter\n",
        "\n",
        "# initializing two dictionaries\n",
        "dict1 = {'a': 12, 'for': 25, 'c': 9}\n",
        "dict2 = {'Geeks': 100, 'geek': 200, 'for': 300}\n",
        "\n",
        "\n",
        "# adding the values with common key\n",
        "\n",
        "Cdict = Counter(dict1) + Counter(dict2)\n",
        "print(Cdict)"
      ],
      "metadata": {
        "colab": {
          "base_uri": "https://localhost:8080/"
        },
        "id": "9w-HnEe_95jY",
        "outputId": "a2e34f51-f5e2-44cc-ccee-0af308fd0835"
      },
      "execution_count": null,
      "outputs": [
        {
          "output_type": "stream",
          "name": "stdout",
          "text": [
            "Counter({'for': 325, 'geek': 200, 'Geeks': 100, 'a': 12, 'c': 9})\n"
          ]
        }
      ]
    },
    {
      "cell_type": "code",
      "source": [
        "##(Q33)\n",
        "# Python3 code to demonstrate working of\n",
        "# Safe access nested dictionary key\n",
        "# Using nested get()\n",
        "\n",
        "# initializing dictionary\n",
        "test_dict = {'Gfg' : {'is' : 'best'}}\n",
        "\n",
        "# printing original dictionary\n",
        "print(\"The original dictionary is : \" + str(test_dict))\n",
        "\n",
        "# using nested get()\n",
        "# Safe access nested dictionary key\n",
        "res5 = test_dict.get('Gfg', {}).get('is')\n",
        "\n",
        "# printing result\n",
        "print(\"The nested safely accessed value is :  \" +str (res5))"
      ],
      "metadata": {
        "colab": {
          "base_uri": "https://localhost:8080/"
        },
        "id": "grepZL09-lj0",
        "outputId": "c5f14afb-1381-459b-b2f6-1016a947d7ef"
      },
      "execution_count": null,
      "outputs": [
        {
          "output_type": "stream",
          "name": "stdout",
          "text": [
            "The original dictionary is : {'Gfg': {'is': 'best'}}\n",
            "The nested safely accessed value is :  best\n"
          ]
        }
      ]
    },
    {
      "cell_type": "code",
      "source": [
        "##(Q34)\n",
        "from collections import OrderedDict\n",
        "d = { '123': { 'key1': 3, 'key2': 11, 'key3': 3 },\n",
        "      '124': { 'key1': 6, 'key2': 56, 'key3': 6 },\n",
        "      '125': { 'key1': 7, 'key2': 44, 'key3': 9 },\n",
        "    }\n",
        "d_ascending = OrderedDict(sorted(d.items(), key=lambda kv: kv[1]['key3']))\n",
        "d_descending = OrderedDict(sorted(d.items(),\n",
        "                                  key=lambda kv: kv[1]['key3'], reverse=True))\n",
        "print(\"ASCENDING IS :\",d_ascending)\n",
        "print(\"DESCENDING IS :\",d_descending)\n"
      ],
      "metadata": {
        "colab": {
          "base_uri": "https://localhost:8080/"
        },
        "id": "-XQMD_jG_CAG",
        "outputId": "4683886f-03aa-4d19-a634-c09b518e570b"
      },
      "execution_count": null,
      "outputs": [
        {
          "output_type": "stream",
          "name": "stdout",
          "text": [
            "ASCENDING IS : OrderedDict([('123', {'key1': 3, 'key2': 11, 'key3': 3}), ('124', {'key1': 6, 'key2': 56, 'key3': 6}), ('125', {'key1': 7, 'key2': 44, 'key3': 9})])\n",
            "DESCENDING IS : OrderedDict([('125', {'key1': 7, 'key2': 44, 'key3': 9}), ('124', {'key1': 6, 'key2': 56, 'key3': 6}), ('123', {'key1': 3, 'key2': 11, 'key3': 3})])\n"
          ]
        }
      ]
    },
    {
      "cell_type": "code",
      "source": [],
      "metadata": {
        "id": "FYgbNZyzAK9y"
      },
      "execution_count": null,
      "outputs": []
    }
  ],
  "metadata": {
    "colab": {
      "provenance": []
    },
    "kernelspec": {
      "display_name": "Python 3",
      "name": "python3"
    },
    "language_info": {
      "name": "python"
    }
  },
  "nbformat": 4,
  "nbformat_minor": 0
}